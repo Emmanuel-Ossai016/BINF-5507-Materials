{
 "cells": [
  {
   "cell_type": "code",
   "execution_count": 2,
   "id": "4a36aa03",
   "metadata": {},
   "outputs": [
    {
     "name": "stdout",
     "output_type": "stream",
     "text": [
      "3.10.3\n"
     ]
    }
   ],
   "source": [
    "# this is a testing notebook for the purposes of this demo\n",
    "import matplotlib\n",
    "print(matplotlib.__version__)\n",
    "\n"
   ]
  },
  {
   "cell_type": "markdown",
   "id": "7b1c7312",
   "metadata": {},
   "source": []
  },
  {
   "cell_type": "markdown",
   "id": "276aa872",
   "metadata": {},
   "source": []
  }
 ],
 "metadata": {
  "kernelspec": {
   "display_name": "default",
   "language": "python",
   "name": "python3"
  },
  "language_info": {
   "codemirror_mode": {
    "name": "ipython",
    "version": 3
   },
   "file_extension": ".py",
   "mimetype": "text/x-python",
   "name": "python",
   "nbconvert_exporter": "python",
   "pygments_lexer": "ipython3",
   "version": "3.12.10"
  }
 },
 "nbformat": 4,
 "nbformat_minor": 5
}
